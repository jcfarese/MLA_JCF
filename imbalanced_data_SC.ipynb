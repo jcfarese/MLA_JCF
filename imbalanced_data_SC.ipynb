{
  "cells": [
    {
      "cell_type": "markdown",
      "metadata": {
        "id": "view-in-github",
        "colab_type": "text"
      },
      "source": [
        "<a href=\"https://colab.research.google.com/github/jcfarese/MLA_JCF/blob/main/imbalanced_data_SC.ipynb\" target=\"_parent\"><img src=\"https://colab.research.google.com/assets/colab-badge.svg\" alt=\"Open In Colab\"/></a>"
      ]
    },
    {
      "cell_type": "markdown",
      "metadata": {
        "id": "Ay8yhwp871Hx"
      },
      "source": [
        "# Imbalanced data\n",
        "\n",
        "Imbalanced data refers to a situation in classification problems where the classes are not represented equally in the dataset.\n",
        "\n",
        "One class (the majority class) has significantly more instances than one or more other classes (the minority class or classes).\n",
        "\n",
        "![image.png](attachment:921d77e1-b4c2-4fe2-a76b-a074ab33172c.png)\n",
        "\n",
        "Imbalanced datasets are common in various real-world scenarios, such as fraud detection, medical diagnosis, anomaly detection, and text classification.\n",
        "\n",
        "### Problems with Imbalanced Datasets:\n",
        "\n",
        "* **Biased Model Performance**: Models trained on imbalanced data tend to be biased towards the majority class, as they tend to focus more on the majority class during training, resulting in poor generalization to the minority class.\n",
        "\n",
        "* **Misleading Evaluation Metrics**: Traditional evaluation metrics like **accuracy** can be misleading on imbalanced datasets. A model may achieve high accuracy by simply predicting the majority class most of the time, while completely ignoring the minority class."
      ]
    },
    {
      "cell_type": "code",
      "source": [
        "from google.colab import drive\n",
        "drive.mount('/content/drive')"
      ],
      "metadata": {
        "colab": {
          "base_uri": "https://localhost:8080/"
        },
        "id": "GUitxbGl91uE",
        "outputId": "dceab3ac-02d3-4875-e0f9-0bd789e78431"
      },
      "execution_count": 3,
      "outputs": [
        {
          "output_type": "stream",
          "name": "stdout",
          "text": [
            "Mounted at /content/drive\n"
          ]
        }
      ]
    },
    {
      "cell_type": "markdown",
      "metadata": {
        "id": "P-WIDkwU71H0"
      },
      "source": [
        "### SKlearn toy datasets\n",
        "https://scikit-learn.org/stable/datasets/toy_dataset.html"
      ]
    },
    {
      "cell_type": "code",
      "execution_count": 4,
      "metadata": {
        "id": "3_HeNstJ71H1"
      },
      "outputs": [],
      "source": [
        "from sklearn.datasets import load_iris as iris\n",
        "import pandas as pd"
      ]
    },
    {
      "cell_type": "code",
      "source": [
        "#load iris data\n",
        "iris = iris()\n",
        "\n",
        "#feature\n",
        "x = iris.data\n",
        "\n",
        "#target\n",
        "y = iris.target"
      ],
      "metadata": {
        "id": "SfgMrIcs-g_6"
      },
      "execution_count": 5,
      "outputs": []
    },
    {
      "cell_type": "code",
      "source": [
        "#check the class distribution\n",
        "print(pd.Series(y).value_counts())"
      ],
      "metadata": {
        "colab": {
          "base_uri": "https://localhost:8080/"
        },
        "id": "CFElLYvY-9WM",
        "outputId": "24c20f5f-214f-4288-fb61-95eb8747d971"
      },
      "execution_count": 6,
      "outputs": [
        {
          "output_type": "stream",
          "name": "stdout",
          "text": [
            "0    50\n",
            "1    50\n",
            "2    50\n",
            "Name: count, dtype: int64\n"
          ]
        }
      ]
    },
    {
      "cell_type": "markdown",
      "metadata": {
        "id": "6rIhcIjU71H2"
      },
      "source": [
        "## Solutions to Imbalanced Data Problems:\n",
        "\n",
        "### **1. Resampling Techniques**:"
      ]
    },
    {
      "cell_type": "markdown",
      "metadata": {
        "id": "ebQHcSfK71H2"
      },
      "source": [
        "## 1.1 Under-Sampling\n",
        "\n",
        "Reduce the number of instances in the majority class by randomly removing instances.\n",
        "\n",
        "![image.png](attachment:15d98869-f4ff-49a5-b926-7a517c3fe1a6.png)"
      ]
    },
    {
      "cell_type": "code",
      "execution_count": 7,
      "metadata": {
        "id": "hUYfJF_I71H2",
        "colab": {
          "base_uri": "https://localhost:8080/"
        },
        "outputId": "a8da59a3-ef96-4aab-a706-78ca37a785ba"
      },
      "outputs": [
        {
          "output_type": "stream",
          "name": "stdout",
          "text": [
            "1    357\n",
            "0    212\n",
            "Name: count, dtype: int64\n"
          ]
        }
      ],
      "source": [
        "from sklearn.datasets import load_breast_cancer as cancer\n",
        "from imblearn.under_sampling import RandomUnderSampler\n",
        "import pandas as pd\n",
        "breast_cancer = cancer()\n",
        "x = breast_cancer.data\n",
        "y = breast_cancer.target\n",
        "print(pd.Series(y).value_counts())"
      ]
    },
    {
      "cell_type": "code",
      "execution_count": 8,
      "metadata": {
        "id": "--6Cwcrh71H3",
        "colab": {
          "base_uri": "https://localhost:8080/"
        },
        "outputId": "7664b6e3-764a-4a76-ec36-6f5dc83aec8c"
      },
      "outputs": [
        {
          "output_type": "stream",
          "name": "stdout",
          "text": [
            "0    212\n",
            "1    212\n",
            "Name: count, dtype: int64\n"
          ]
        }
      ],
      "source": [
        "#Random State can be anything for fit\n",
        "rus = RandomUnderSampler(random_state=42)\n",
        "x_resampled, y_resampled = rus.fit_resample(x, y)\n",
        "print(pd.Series(y_resampled).value_counts())"
      ]
    },
    {
      "cell_type": "markdown",
      "metadata": {
        "id": "Yxfcjc6671H3"
      },
      "source": [
        "**Advantages**:\n",
        "* Reduces computation time and memory usage.\n",
        "* Helps balance class distribution, potentially improving model performance.\n",
        "\n",
        "**Disadvantages**:\n",
        "* May discard potentially useful information from majority class.\n",
        "* Risk of underfitting if important samples are removed."
      ]
    },
    {
      "cell_type": "markdown",
      "metadata": {
        "id": "Sy0IPIWV71H4"
      },
      "source": [
        "## 1.2. Over-Sampling\n",
        "\n",
        "Increase the number of instances in the minority class by duplicating existing instances or generating synthetic samples.\n",
        "\n",
        "![image.png](attachment:71bafa7f-a85b-429a-be7b-224936589c7f.png)"
      ]
    },
    {
      "cell_type": "code",
      "execution_count": 9,
      "metadata": {
        "id": "-6gVfESa71H4",
        "colab": {
          "base_uri": "https://localhost:8080/"
        },
        "outputId": "20d7006f-e6d8-469a-d15a-d7d8dd4eff83"
      },
      "outputs": [
        {
          "output_type": "stream",
          "name": "stdout",
          "text": [
            "0    357\n",
            "1    357\n",
            "Name: count, dtype: int64\n"
          ]
        }
      ],
      "source": [
        "from imblearn.over_sampling import RandomOverSampler\n",
        "ros = RandomOverSampler(random_state=42)\n",
        "x_resampled1, y_resampled1 = ros.fit_resample(x, y)\n",
        "print(pd.Series(y_resampled1).value_counts())"
      ]
    },
    {
      "cell_type": "markdown",
      "metadata": {
        "id": "Aao9kYH571H5"
      },
      "source": [
        "**Advantages**:\n",
        "* Increases representation of minority class, preventing bias towards majority class.\n",
        "* Can improve model performance.\n",
        "\n",
        "**Disadvantages**:\n",
        "* May lead to overfitting if synthetic samples are not well-generated.\n",
        "* Can increase computation time and memory usage."
      ]
    },
    {
      "cell_type": "markdown",
      "metadata": {
        "id": "BYQxm8Mm71H5"
      },
      "source": [
        "## 1.3. Synthetic Over-Sampling Technique: SMOTE\n",
        "\n",
        "Generate synthetic samples for the minority class by interpolating between existing instances."
      ]
    },
    {
      "cell_type": "markdown",
      "metadata": {
        "id": "EM8Um6Id71H6"
      },
      "source": [
        "![image.png](attachment:f6229229-4626-41ed-a92e-498d4f93ea25.png)"
      ]
    },
    {
      "cell_type": "markdown",
      "metadata": {
        "id": "F0FEo1UY71H6"
      },
      "source": [
        "### Step-by-Step Process of SMOTE:\n",
        "#### Identify Minority Class Samples:\n",
        "\n",
        "SMOTE first identifies the minority class samples from the dataset. Let's assume we have a binary classification problem where the majority class has far more instances than the minority class.\n",
        "Find k Nearest Neighbors:\n",
        "\n",
        "- For each minority class sample, SMOTE finds its k-nearest neighbors in the feature space using techniques like Euclidean distance. Typically, k is set to 5 by default, though it can be adjusted.\n",
        "- These neighboring points are other minority class examples that are \"close\" to the original point in the feature space.\n",
        "Generate Synthetic Samples:\n",
        "\n",
        "SMOTE then selects one of the k-nearest neighbors at random and creates a new synthetic sample.\n",
        "![image.png](attachment:a8416356-eabf-4c2a-ae82-3b96bab4c87c.png)"
      ]
    },
    {
      "cell_type": "code",
      "execution_count": 10,
      "metadata": {
        "id": "HrKVbjOK71H6",
        "colab": {
          "base_uri": "https://localhost:8080/"
        },
        "outputId": "5ca8ffb1-7a8d-4f2b-ae68-3739435055f2"
      },
      "outputs": [
        {
          "output_type": "stream",
          "name": "stdout",
          "text": [
            "0    357\n",
            "1    357\n",
            "Name: count, dtype: int64\n"
          ]
        }
      ],
      "source": [
        "from imblearn.over_sampling import SMOTE\n",
        "smote = SMOTE(random_state=42)\n",
        "x_resampled2, y_resampled2 = smote.fit_resample(x, y)\n",
        "print(pd.Series(y_resampled2).value_counts())"
      ]
    },
    {
      "cell_type": "markdown",
      "metadata": {
        "id": "ePb2BPGL71H6"
      },
      "source": [
        "**Advantages**:\n",
        "* Generates synthetic samples, preserving minority class distribution.\n",
        "* Addresses imbalanced data without discarding information.\n",
        "\n",
        "**Disadvantages**:\n",
        "* Can introduce noise if synthetic samples are poorly generated.\n",
        "* May not work well with high-dimensional data.\n",
        "* Sensitive towards outliers."
      ]
    },
    {
      "cell_type": "markdown",
      "metadata": {
        "id": "en2520n571H6"
      },
      "source": [
        "**Model Selection:**\n",
        "\n",
        "Choose models that are robust to class imbalance, such as linear regression, logistic regression, decision trees, random forests, support vector machines with appropriate kernels, or anomaly detection algorithms."
      ]
    },
    {
      "cell_type": "markdown",
      "metadata": {
        "id": "JRHKC-zL71H7"
      },
      "source": [
        "## 2. Data-Level Techniques:\n",
        "\n",
        "* **Collect More Data:** Gather additional data for the minority class to balance the dataset.\n",
        "* **Domain Knowledge:** Incorporate domain knowledge to better understand the importance of different classes and guide the selection of appropriate techniques for handling imbalance.\n"
      ]
    },
    {
      "cell_type": "code",
      "execution_count": null,
      "metadata": {
        "id": "fcYhzLnX71H7"
      },
      "outputs": [],
      "source": []
    }
  ],
  "metadata": {
    "kaggle": {
      "accelerator": "none",
      "dataSources": [],
      "dockerImageVersionId": 30698,
      "isGpuEnabled": false,
      "isInternetEnabled": false,
      "language": "python",
      "sourceType": "notebook"
    },
    "kernelspec": {
      "display_name": "Python 3 (ipykernel)",
      "language": "python",
      "name": "python3"
    },
    "language_info": {
      "codemirror_mode": {
        "name": "ipython",
        "version": 3
      },
      "file_extension": ".py",
      "mimetype": "text/x-python",
      "name": "python",
      "nbconvert_exporter": "python",
      "pygments_lexer": "ipython3",
      "version": "3.12.4"
    },
    "colab": {
      "provenance": [],
      "include_colab_link": true
    }
  },
  "nbformat": 4,
  "nbformat_minor": 0
}