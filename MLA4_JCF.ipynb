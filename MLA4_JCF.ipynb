{
  "nbformat": 4,
  "nbformat_minor": 0,
  "metadata": {
    "colab": {
      "provenance": [],
      "include_colab_link": true
    },
    "kernelspec": {
      "name": "python3",
      "display_name": "Python 3"
    },
    "language_info": {
      "name": "python"
    }
  },
  "cells": [
    {
      "cell_type": "markdown",
      "metadata": {
        "id": "view-in-github",
        "colab_type": "text"
      },
      "source": [
        "<a href=\"https://colab.research.google.com/github/jcfarese/MLA_JCF/blob/main/MLA4_JCF.ipynb\" target=\"_parent\"><img src=\"https://colab.research.google.com/assets/colab-badge.svg\" alt=\"Open In Colab\"/></a>"
      ]
    },
    {
      "cell_type": "markdown",
      "source": [
        "\n",
        "# Machine Learning Assignment #  \n",
        "**Jim Farese**  "
      ],
      "metadata": {
        "id": "QRwWxyo15l1_"
      }
    },
    {
      "cell_type": "markdown",
      "source": [
        "## 1. Imports for Specific Models"
      ],
      "metadata": {
        "id": "YPEHNg3xIR9Q"
      }
    },
    {
      "cell_type": "markdown",
      "source": [
        "## Standard Imports"
      ],
      "metadata": {
        "id": "Dm3plw0g3ZvL"
      }
    },
    {
      "cell_type": "code",
      "execution_count": null,
      "metadata": {
        "id": "hZQOlQVuibFq"
      },
      "outputs": [],
      "source": [
        "import pandas as pd\n",
        "import numpy as np\n",
        "import matplotlib.pyplot as plt\n",
        "import seaborn as sns\n",
        "%matplotlib inline"
      ]
    },
    {
      "cell_type": "code",
      "source": [
        "from google.colab import drive\n",
        "drive.mount('/content/gdrive')"
      ],
      "metadata": {
        "colab": {
          "base_uri": "https://localhost:8080/"
        },
        "id": "f6C2m_xqin0Y",
        "outputId": "1530c5af-8a09-4e4e-847d-240f56ae12f7"
      },
      "execution_count": null,
      "outputs": [
        {
          "output_type": "stream",
          "name": "stdout",
          "text": [
            "Mounted at /content/gdrive\n"
          ]
        }
      ]
    },
    {
      "cell_type": "markdown",
      "source": [
        "## Imports for specific models\n",
        "In this section, you will import the models from SKLearn that you will use this in this notebook."
      ],
      "metadata": {
        "id": "UM7SiWOlBzPg"
      }
    },
    {
      "cell_type": "code",
      "source": [
        "#example - you will replace this with the models you are actually using.\n",
        "from sklearn.neighbors import KNeighborsClassifier"
      ],
      "metadata": {
        "id": "jL7htbaoB6Ek"
      },
      "execution_count": null,
      "outputs": []
    },
    {
      "cell_type": "markdown",
      "source": [
        "## Imports for Splitting Data and Building Pipeline\n"
      ],
      "metadata": {
        "id": "-5Akp3i4CPFj"
      }
    },
    {
      "cell_type": "code",
      "source": [
        "from sklearn.model_selection import train_test_split\n",
        "\n",
        "from sklearn.pipeline import Pipeline\n",
        "from sklearn import set_config\n",
        "set_config(display='diagram')\n",
        "\n",
        "from sklearn.compose import ColumnTransformer\n",
        "from sklearn.preprocessing import MinMaxScaler\n",
        "from sklearn.preprocessing import OneHotEncoder"
      ],
      "metadata": {
        "id": "RPkp1dlKqLOT"
      },
      "execution_count": null,
      "outputs": []
    },
    {
      "cell_type": "markdown",
      "source": [
        "# Imports for Performance Measures"
      ],
      "metadata": {
        "id": "JW9kgAGwpww3"
      }
    },
    {
      "cell_type": "code",
      "source": [
        "from sklearn.metrics import confusion_matrix\n",
        "from sklearn.metrics import precision_score, recall_score, f1_score\n",
        "from sklearn.metrics import roc_curve\n",
        "from sklearn.metrics import roc_auc_score\n",
        "from sklearn.metrics import r2_score\n",
        "from sklearn.metrics import mean_squared_error\n",
        "from sklearn.metrics import precision_recall_curve\n",
        "from sklearn.metrics import auc"
      ],
      "metadata": {
        "id": "N4WwSQlNpw7c"
      },
      "execution_count": null,
      "outputs": []
    },
    {
      "cell_type": "markdown",
      "source": [
        "## Confusion Matrix Function\n",
        "This function is for creating a graphical version of the confusion matrix.\n",
        "\n"
      ],
      "metadata": {
        "id": "pWcDpHz0qF_J"
      }
    },
    {
      "cell_type": "code",
      "source": [
        "def plot_cm(y_test, y_pred):\n",
        "    cm = confusion_matrix(y_test,y_pred)\n",
        "    fig = plt.figure(figsize=(10,10))\n",
        "    heatmap = sns.heatmap(cm, annot=True, fmt='.2f', cmap='RdYlGn')\n",
        "    plt.ylabel('True label')\n",
        "    plt.xlabel('Predicted Label')"
      ],
      "metadata": {
        "id": "UyWroVXvp2ZD"
      },
      "execution_count": null,
      "outputs": []
    },
    {
      "cell_type": "markdown",
      "source": [
        "# ROC_Curve Function\n",
        "This function is for plotting the roc_curve"
      ],
      "metadata": {
        "id": "fYHTxcJYqGcP"
      }
    },
    {
      "cell_type": "code",
      "source": [
        "def plot_roc_curve(fpr,tpr):\n",
        "  plt.plot(fpr, tpr, linewidth=2)\n",
        "  plt.plot([0,1],[0,1], 'k--')\n",
        "  plt.xlim([0.0, 1.0])\n",
        "  plt.ylim([0.0, 1.0])"
      ],
      "metadata": {
        "id": "DSTtrdx0qFAU"
      },
      "execution_count": null,
      "outputs": []
    },
    {
      "cell_type": "markdown",
      "source": [
        "## Problem 1"
      ],
      "metadata": {
        "id": "9zzzkwxa3ncK"
      }
    },
    {
      "cell_type": "markdown",
      "source": [
        "### 2. SVC Classification - Acquire Data"
      ],
      "metadata": {
        "id": "PbtwGYpbDQyy"
      }
    },
    {
      "cell_type": "markdown",
      "source": [
        "Load the banknote_authentication.csv into a data frame named df"
      ],
      "metadata": {
        "id": "5ki28GUWIhlK"
      }
    },
    {
      "cell_type": "markdown",
      "source": [
        "### 3. Statistical and Visual Exploration"
      ],
      "metadata": {
        "id": "HYTANYVkDbyh"
      }
    },
    {
      "cell_type": "markdown",
      "source": [
        "**You do not need this section for this notebook - you did this in last module's assignment**"
      ],
      "metadata": {
        "id": "IznYnqCRInjZ"
      }
    },
    {
      "cell_type": "markdown",
      "source": [
        "### 4. Splitting Data into Train/Test"
      ],
      "metadata": {
        "id": "FhtpEB4SEzSx"
      }
    },
    {
      "cell_type": "markdown",
      "source": [
        "Create a data frame called X of your inputs that includes all columns except date and forgery"
      ],
      "metadata": {
        "id": "54MJTyjbIw6C"
      }
    },
    {
      "cell_type": "code",
      "source": [],
      "metadata": {
        "id": "dUKUMBLUIyei"
      },
      "execution_count": null,
      "outputs": []
    },
    {
      "cell_type": "markdown",
      "source": [
        "Create a data frame called y of your output that includes only forgery This will be your target variable that you are trying to predict"
      ],
      "metadata": {
        "id": "G1ODdWh_Iy0j"
      }
    },
    {
      "cell_type": "code",
      "source": [],
      "metadata": {
        "id": "hkQjmBuDI1Fo"
      },
      "execution_count": null,
      "outputs": []
    },
    {
      "cell_type": "markdown",
      "source": [
        "Split the data into Train/Test sets.  Use 20% of the data for testing. You should have 4 data frames X_train, X_test, y_train,  and y_test"
      ],
      "metadata": {
        "id": "T1pklnKmI1bO"
      }
    },
    {
      "cell_type": "code",
      "source": [],
      "metadata": {
        "id": "Dz0_C_khI3Ni"
      },
      "execution_count": null,
      "outputs": []
    },
    {
      "cell_type": "markdown",
      "source": [
        "### 5. Building the Pipeline"
      ],
      "metadata": {
        "id": "jPvXk_mdEJdg"
      }
    },
    {
      "cell_type": "markdown",
      "source": [
        "Create a column transformer that will MinMax scale the numerical variables"
      ],
      "metadata": {
        "id": "57e-HrwaI5oT"
      }
    },
    {
      "cell_type": "code",
      "source": [],
      "metadata": {
        "id": "1tSFzfN2I7Tp"
      },
      "execution_count": null,
      "outputs": []
    },
    {
      "cell_type": "markdown",
      "source": [
        "Create a pipeline that will transform the data and then run the DecisionTreeClassification algorithm"
      ],
      "metadata": {
        "id": "g37Y6GvsI7mx"
      }
    },
    {
      "cell_type": "code",
      "source": [],
      "metadata": {
        "id": "lXuaCINXI-QV"
      },
      "execution_count": null,
      "outputs": []
    },
    {
      "cell_type": "markdown",
      "source": [
        "### 6. Executing the Model"
      ],
      "metadata": {
        "id": "8vSidC97Jbx2"
      }
    },
    {
      "cell_type": "markdown",
      "source": [
        "Run the pipeline to fit the DecisionTreeClassification model"
      ],
      "metadata": {
        "id": "eAcgPTbdJAIp"
      }
    },
    {
      "cell_type": "markdown",
      "source": [
        "### 7. Evaluating Model"
      ],
      "metadata": {
        "id": "iBFx9cbQJCKr"
      }
    },
    {
      "cell_type": "markdown",
      "source": [
        "Run the pipeline to predict y values from the test data set and save them in a variable called y_pred"
      ],
      "metadata": {
        "id": "nWSJTGKOJEpa"
      }
    },
    {
      "cell_type": "code",
      "source": [],
      "metadata": {
        "id": "_V_PF4D2JIkd"
      },
      "execution_count": null,
      "outputs": []
    },
    {
      "cell_type": "markdown",
      "source": [
        "Call the plot_cm function to generate the confusion matrix"
      ],
      "metadata": {
        "id": "4IdDIprDJI2f"
      }
    },
    {
      "cell_type": "code",
      "source": [],
      "metadata": {
        "id": "bUZpaZtCJLL-"
      },
      "execution_count": null,
      "outputs": []
    },
    {
      "cell_type": "markdown",
      "source": [
        "Calculate the precision, recall, and F1 score. In a markdown comment below your results, interpret your results"
      ],
      "metadata": {
        "id": "GKKumEKDJLfO"
      }
    },
    {
      "cell_type": "code",
      "source": [],
      "metadata": {
        "id": "4iLu67K4JNwb"
      },
      "execution_count": null,
      "outputs": []
    },
    {
      "cell_type": "markdown",
      "source": [],
      "metadata": {
        "id": "RGImMopeJOGK"
      }
    },
    {
      "cell_type": "markdown",
      "source": [
        "### 8. Conclusion"
      ],
      "metadata": {
        "id": "3lnXErgPJFde"
      }
    },
    {
      "cell_type": "markdown",
      "source": [
        "In a Markdown comment, write a conclusion on how suitable you think this model is for predicting whether or not a banknote is a forgery"
      ],
      "metadata": {
        "id": "kYkdAlnNJTTh"
      }
    },
    {
      "cell_type": "markdown",
      "source": [],
      "metadata": {
        "id": "1nJnZHgBJWea"
      }
    },
    {
      "cell_type": "markdown",
      "source": [
        "## Problem 2\n",
        "\n",
        "Now you are going to do an DecisionTree Regression to predict whether the usage in KWH for the steel industry data.  You should already have a copy of this data because you used it in a previous model. If you do not, I have attached a copy to this assignment"
      ],
      "metadata": {
        "id": "cEwDPPtX-C9t"
      }
    },
    {
      "cell_type": "markdown",
      "source": [
        "### 1. Acquire Data"
      ],
      "metadata": {
        "id": "iFllsBeo3Fym"
      }
    },
    {
      "cell_type": "markdown",
      "source": [
        "Load the Steel_industry_data.csv into a data frame named df."
      ],
      "metadata": {
        "id": "MXPwDJU1JhzO"
      }
    },
    {
      "cell_type": "code",
      "source": [],
      "metadata": {
        "id": "9Mo2bycAJjKv"
      },
      "execution_count": null,
      "outputs": []
    },
    {
      "cell_type": "markdown",
      "source": [
        "Rename the columns according to Table 1: Columns Names![Screenshot 2024-10-24 113441.png](data:image/png;base64,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)\n"
      ],
      "metadata": {
        "id": "fivUQFojJjlq"
      }
    },
    {
      "cell_type": "code",
      "source": [],
      "metadata": {
        "id": "wO26s7_BJ6CS"
      },
      "execution_count": null,
      "outputs": []
    },
    {
      "cell_type": "markdown",
      "source": [
        "### 2. Splitting Data into Train/Test"
      ],
      "metadata": {
        "id": "loHENV0V-Okn"
      }
    },
    {
      "cell_type": "markdown",
      "source": [
        "Create a data frame called X of your inputs that includes all columns except date and usage_kwh"
      ],
      "metadata": {
        "id": "bJVRy9DrJ9aC"
      }
    },
    {
      "cell_type": "code",
      "source": [],
      "metadata": {
        "id": "TUCipVUYJ_fw"
      },
      "execution_count": null,
      "outputs": []
    },
    {
      "cell_type": "markdown",
      "source": [
        "Create a data frame called y of your output that includes only usage_kwh. This will be your target variable that you are trying to predict"
      ],
      "metadata": {
        "id": "5kWAwm8hJ_ye"
      }
    },
    {
      "cell_type": "code",
      "source": [],
      "metadata": {
        "id": "uezngsJeKBsc"
      },
      "execution_count": null,
      "outputs": []
    },
    {
      "cell_type": "markdown",
      "source": [
        "Split the data into Train/Test sets.  Use 20% of the data for testing. You should have 4 data frames X_train, X_test, y_train,  and y_test"
      ],
      "metadata": {
        "id": "_uHV6EmrKCHN"
      }
    },
    {
      "cell_type": "markdown",
      "source": [
        "### 3. Building the Pipeline"
      ],
      "metadata": {
        "id": "fwGIAvl3-Ok-"
      }
    },
    {
      "cell_type": "markdown",
      "source": [
        "Create a column transformer that will OneHotEncode the categorical variables and MinMax scale the numerical variables (not the output)."
      ],
      "metadata": {
        "id": "HeK5FchWKG7a"
      }
    },
    {
      "cell_type": "code",
      "source": [],
      "metadata": {
        "id": "KLQEF-0MKJHs"
      },
      "execution_count": null,
      "outputs": []
    },
    {
      "cell_type": "markdown",
      "source": [
        "Create a pipeline that will transform the data and then run the DecisionTreeRegression algorithm"
      ],
      "metadata": {
        "id": "ZXXbFVHPKJxY"
      }
    },
    {
      "cell_type": "code",
      "source": [],
      "metadata": {
        "id": "8SfmfdkOKMLF"
      },
      "execution_count": null,
      "outputs": []
    },
    {
      "cell_type": "markdown",
      "source": [],
      "metadata": {
        "id": "lRp68-a_KMi3"
      }
    },
    {
      "cell_type": "markdown",
      "source": [
        "### 4. Executing the Model"
      ],
      "metadata": {
        "id": "ivVjQ7Jm-Ok_"
      }
    },
    {
      "cell_type": "markdown",
      "source": [
        "Run the pipeline to fit the DecisionTreeRegression"
      ],
      "metadata": {
        "id": "yl_g78seKPqf"
      }
    },
    {
      "cell_type": "code",
      "source": [],
      "metadata": {
        "id": "U_3P5iy7KRYL"
      },
      "execution_count": null,
      "outputs": []
    },
    {
      "cell_type": "markdown",
      "source": [
        "### 5. Evaluating Model"
      ],
      "metadata": {
        "id": "SMLuruS6-OlA"
      }
    },
    {
      "cell_type": "markdown",
      "source": [
        "Run the pipeline to predict y values from the test data set and save them in a variable called y_pred"
      ],
      "metadata": {
        "id": "miuvCRVpKUnm"
      }
    },
    {
      "cell_type": "code",
      "source": [],
      "metadata": {
        "id": "G9nYPc_rKWba"
      },
      "execution_count": null,
      "outputs": []
    },
    {
      "cell_type": "markdown",
      "source": [
        "Calculate the root mean squared error for both train and test. In a Markdown comment below the result, interpret the output you receive"
      ],
      "metadata": {
        "id": "YkXXmuzTKW3_"
      }
    },
    {
      "cell_type": "code",
      "source": [],
      "metadata": {
        "id": "8gRhtgBlKZe9"
      },
      "execution_count": null,
      "outputs": []
    },
    {
      "cell_type": "markdown",
      "source": [],
      "metadata": {
        "id": "GziVvXKQKZ-P"
      }
    },
    {
      "cell_type": "markdown",
      "source": [
        "### 6. Conclusion\n"
      ],
      "metadata": {
        "id": "TaNdOL7rk8q8"
      }
    },
    {
      "cell_type": "markdown",
      "source": [
        "In a Markdown comment, write a conclusion on how suitable you think this model is for predicting kwh usage"
      ],
      "metadata": {
        "id": "ynerFoYHKd8j"
      }
    },
    {
      "cell_type": "markdown",
      "source": [],
      "metadata": {
        "id": "qrBxpRSIKf1J"
      }
    }
  ]
}